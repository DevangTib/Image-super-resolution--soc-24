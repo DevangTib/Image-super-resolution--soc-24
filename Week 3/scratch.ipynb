{
 "cells": [
  {
   "cell_type": "code",
   "execution_count": 14,
   "id": "be39a7c0",
   "metadata": {},
   "outputs": [],
   "source": [
    "import numpy as np\n",
    "import pandas as pd\n",
    "import matplotlib.pyplot as plt"
   ]
  },
  {
   "cell_type": "markdown",
   "id": "788df82a",
   "metadata": {},
   "source": [
    "#### MNIST dataset"
   ]
  },
  {
   "cell_type": "code",
   "execution_count": 15,
   "id": "a98e5018",
   "metadata": {},
   "outputs": [],
   "source": [
    "# Function to one-hot encode the target variable into the 10 classes (0-9)\n",
    "# Input shape: (N,),    Output: (N, 10)\n",
    "def one_hot(Y):\n",
    "    one_hot_Y = np.zeros((Y.size, 10))\n",
    "    one_hot_Y[np.arange(Y.size), Y] = 1\n",
    "    return one_hot_Y"
   ]
  },
  {
   "cell_type": "code",
   "execution_count": 16,
   "id": "ae75c227",
   "metadata": {},
   "outputs": [],
   "source": [
    "train_data=pd.read_csv(r\"./mnist_train.csv\")\n",
    "test_data=pd.read_csv(r\"./mnist_test.csv\")\n",
    "\n",
    "train_data=train_data.to_numpy()    # train_data shape: (60000, 785)\n",
    "m, n = train_data.shape\n",
    "test_data=test_data.to_numpy()      # test_data shape: (10000, 785)\n",
    "\n",
    "X_train=train_data[:,1:]            # X_train shape: (60000, 784)\n",
    "y_train=train_data[:,0]             # y_train shape: (60000,)\n",
    "X_test=test_data[:,1:]              # X_test shape: (10000, 784)\n",
    "y_test=test_data[:,0]               # y_test shape: (10000,)\n",
    "\n",
    "X_train = X_train / 255.0           # Normalizing the data\n",
    "X_test = X_test / 255.0\n",
    "X_test = X_test.T                   # X_test shape: (784, 10000)\n",
    "X_train = X_train.T                 # X_train shape: (784, 60000)\n",
    "\n",
    "# one_hot_y_train = one_hot(y_train)  # one_hot_y_train shape: (60000, 10)\n",
    "# one_hot_y_test = one_hot(y_test)    # one_hot_y_test shape: (10000, 10)"
   ]
  },
  {
   "cell_type": "code",
   "execution_count": 17,
   "id": "ced96caa",
   "metadata": {},
   "outputs": [],
   "source": [
    "# Function to initialize the parameters with random values\n",
    "def init_params():\n",
    "    w1=np.random.rand(20,784)-0.5   # w1 shape: (20, 784)\n",
    "    b1=np.random.rand(20,1)-0.5     # b1 shape: (20, 1)\n",
    "    w2=np.random.rand(10,20)-0.5    # w2 shape: (10, 20)\n",
    "    b2=np.random.rand(10,1)-0.5     # b2 shape: (10, 1)\n",
    "    w3=np.random.rand(10,10)-0.5    # w3 shape: (10, 10)\n",
    "    b3=np.random.rand(10,1)-0.5     # b3 shape: (10, 1)\n",
    "    return w1, b1, w2, b2"
   ]
  },
  {
   "cell_type": "code",
   "execution_count": 18,
   "id": "8a26a041",
   "metadata": {},
   "outputs": [],
   "source": [
    "# Activation functions and their derivatives\n",
    "def sigmoid(z):\n",
    "    # z = np.clip(z, -500, 500)\n",
    "    return 1/(1+np.exp(-z))\n",
    "\n",
    "def ReLU(Z):\n",
    "    return np.maximum(Z, 0)\n",
    "\n",
    "def softmax(Z):\n",
    "    Z_new = Z - np.max(Z, axis=0, keepdims=True)\n",
    "    A = np.exp(Z_new) / np.sum(np.exp(Z_new), axis=0, keepdims=True)\n",
    "    return A\n",
    "\n",
    "def deriv_ReLU(Z):\n",
    "    return Z>0\n",
    "\n",
    "def deriv_sigmoid(Z):\n",
    "    # print(Z.min(), Z.max())\n",
    "    return Z*(1-Z)\n",
    "\n",
    "# Loss function\n",
    "def cross_entropy_loss(Y, Y_hat):\n",
    "    return -np.mean(Y*np.log(Y_hat))"
   ]
  },
  {
   "cell_type": "code",
   "execution_count": 19,
   "id": "323f513b",
   "metadata": {},
   "outputs": [],
   "source": [
    "# Forward Propagation\n",
    "def forward_prop(w1, b1, w2, b2, X):\n",
    "    z1=w1.dot(X)+b1     # w1 shape: (20, 784),  b1.shape: (20, 1), z1 shape: (20, 60000)\n",
    "    a1=sigmoid(z1)      # a1 shape: (20, 60000)\n",
    "    z2=w2.dot(a1)+b2    # w2 shape: (10, 20),   b2.shape: (10, 1), z2 shape: (10, 60000)\n",
    "    a2=softmax(z2)      # a2 shape: (10, 60000)\n",
    "    return z1, a1, z2, a2"
   ]
  },
  {
   "cell_type": "code",
   "execution_count": 20,
   "id": "7fc227b0",
   "metadata": {},
   "outputs": [],
   "source": [
    "# Backward Propagation\n",
    "def back_prop(z1, a1, z2, a2, w2, Y, X, loss=\"ce\"):\n",
    "    OneHot_Y=one_hot(Y).T\n",
    "    if loss == \"ce\":\n",
    "        dZ2=(a2-OneHot_Y) / m\n",
    "    elif loss == \"tss\":\n",
    "        dZ2=(a2-OneHot_Y)*a2*(1-a2) / m\n",
    "    dW2=dZ2.dot(a1.T)\n",
    "    db2=np.sum(dZ2, axis=1, keepdims=True)\n",
    "    dZ1=w2.T.dot(dZ2)*deriv_sigmoid(a1)\n",
    "    dW1=dZ1.dot(X.T)\n",
    "    db1=np.sum(dZ1, axis=1, keepdims=True)\n",
    "    return dW1, db1, dW2, db2"
   ]
  },
  {
   "cell_type": "code",
   "execution_count": 21,
   "id": "094277e6",
   "metadata": {},
   "outputs": [],
   "source": [
    "def update_params(W1, b1, W2, b2, dW1, db1, dW2, db2, alpha):\n",
    "    W1=W1-alpha*dW1\n",
    "    b1=b1-alpha*db1\n",
    "    W2=W2-alpha*dW2\n",
    "    b2=b2-alpha*db2\n",
    "    return W1, b1, W2, b2"
   ]
  },
  {
   "cell_type": "code",
   "execution_count": 22,
   "id": "7b671953",
   "metadata": {},
   "outputs": [],
   "source": [
    "# Functions to get predictions and accuracy\n",
    "def get_predictions(a2):\n",
    "    return np.argmax(a2,0)\n",
    "\n",
    "def get_accuracy(predictions, Y):\n",
    "    # print(predictions, Y)\n",
    "    return np.sum(predictions == Y)/Y.size"
   ]
  },
  {
   "cell_type": "code",
   "execution_count": 23,
   "id": "1efad1c0",
   "metadata": {},
   "outputs": [],
   "source": [
    "# Training the model\n",
    "def train(X, Y, iterations, alpha):\n",
    "    w1, b1, w2, b2=init_params()\n",
    "    print(X.shape)\n",
    "    for i in range(iterations):\n",
    "        z1, a1, z2, a2 =forward_prop(w1, b1, w2, b2, X)\n",
    "        dW1, db1, dW2, db2 = back_prop(z1, a1, z2, a2, w2, Y, X, \"ce\")\n",
    "        w1, b1, w2, b2 = update_params(w1, b1, w2, b2, dW1, db1, dW2, db2, alpha)\n",
    "        if i%10==0:\n",
    "            print(\"Iterations: \",i, end=\", \")\n",
    "            print(\"Accuracy: \",get_accuracy(get_predictions(a2),Y), end = \", \")\n",
    "            print(\"Loss: \",cross_entropy_loss(one_hot(Y).T, a2))\n",
    "    return w1, b1, w2, b2"
   ]
  },
  {
   "cell_type": "code",
   "execution_count": 24,
   "id": "5394c2b5",
   "metadata": {},
   "outputs": [
    {
     "name": "stdout",
     "output_type": "stream",
     "text": [
      "(784, 60000)\n",
      "Iterations:  0, Accuracy:  0.12026666666666666, Loss:  0.2366597908923039\n",
      "Iterations:  10, Accuracy:  0.395, Loss:  0.19688727090123537\n",
      "Iterations:  20, Accuracy:  0.5529166666666666, Loss:  0.16986655446641166\n",
      "Iterations:  30, Accuracy:  0.6329666666666667, Loss:  0.14720035644441348\n",
      "Iterations:  40, Accuracy:  0.6842166666666667, Loss:  0.12870390117422997\n",
      "Iterations:  50, Accuracy:  0.7208833333333333, Loss:  0.11389776719375558\n",
      "Iterations:  60, Accuracy:  0.7485, Loss:  0.10219399367667667\n",
      "Iterations:  70, Accuracy:  0.7702, Loss:  0.09294701507214718\n",
      "Iterations:  80, Accuracy:  0.7869, Loss:  0.08556442980676773\n",
      "Iterations:  90, Accuracy:  0.7998, Loss:  0.07957407511918861\n",
      "Iterations:  100, Accuracy:  0.8099833333333334, Loss:  0.07462713481295953\n",
      "Iterations:  110, Accuracy:  0.8197166666666666, Loss:  0.07047364872419877\n",
      "Iterations:  120, Accuracy:  0.8280166666666666, Loss:  0.06693518443024093\n",
      "Iterations:  130, Accuracy:  0.8346, Loss:  0.06388301934666252\n",
      "Iterations:  140, Accuracy:  0.8401333333333333, Loss:  0.061222637053466485\n",
      "Iterations:  150, Accuracy:  0.8455333333333334, Loss:  0.05888319367696124\n",
      "Iterations:  160, Accuracy:  0.8505, Loss:  0.05681045597324337\n",
      "Iterations:  170, Accuracy:  0.8549166666666667, Loss:  0.054962059031093705\n",
      "Iterations:  180, Accuracy:  0.85895, Loss:  0.05330429226185683\n",
      "Iterations:  190, Accuracy:  0.8626833333333334, Loss:  0.051809891589464425\n",
      "Iterations:  200, Accuracy:  0.8660666666666667, Loss:  0.05045649746875161\n",
      "Iterations:  210, Accuracy:  0.8688333333333333, Loss:  0.04922555683405379\n",
      "Iterations:  220, Accuracy:  0.8714833333333334, Loss:  0.04810152414628286\n",
      "Iterations:  230, Accuracy:  0.8735666666666667, Loss:  0.04707126711087126\n",
      "Iterations:  240, Accuracy:  0.8756833333333334, Loss:  0.04612361534532154\n",
      "Iterations:  250, Accuracy:  0.8777333333333334, Loss:  0.04524901116694163\n",
      "Iterations:  260, Accuracy:  0.87965, Loss:  0.04443923494942575\n",
      "Iterations:  270, Accuracy:  0.88125, Loss:  0.04368718603812315\n",
      "Iterations:  280, Accuracy:  0.883, Loss:  0.042986705827468726\n",
      "Iterations:  290, Accuracy:  0.88425, Loss:  0.042332433375369835\n",
      "Iterations:  300, Accuracy:  0.8857833333333334, Loss:  0.041719686511423534\n",
      "Iterations:  310, Accuracy:  0.8871666666666667, Loss:  0.041144363193253736\n",
      "Iterations:  320, Accuracy:  0.8883666666666666, Loss:  0.04060285913616372\n",
      "Iterations:  330, Accuracy:  0.8892666666666666, Loss:  0.04009199865416477\n",
      "Iterations:  340, Accuracy:  0.8904166666666666, Loss:  0.03960897631711601\n",
      "Iterations:  350, Accuracy:  0.89155, Loss:  0.03915130752441415\n",
      "Iterations:  360, Accuracy:  0.8926166666666666, Loss:  0.03871678647134609\n",
      "Iterations:  370, Accuracy:  0.8936833333333334, Loss:  0.03830345027434294\n",
      "Iterations:  380, Accuracy:  0.8945833333333333, Loss:  0.03790954824924727\n",
      "Iterations:  390, Accuracy:  0.8956333333333333, Loss:  0.0375335155180902\n",
      "Iterations:  400, Accuracy:  0.8965833333333333, Loss:  0.037173950265629564\n",
      "Iterations:  410, Accuracy:  0.8974666666666666, Loss:  0.036829594084756376\n",
      "Iterations:  420, Accuracy:  0.89815, Loss:  0.03649931494557616\n",
      "Iterations:  430, Accuracy:  0.8987666666666667, Loss:  0.0361820924009409\n",
      "Iterations:  440, Accuracy:  0.8994666666666666, Loss:  0.0358770047049352\n",
      "Iterations:  450, Accuracy:  0.9001666666666667, Loss:  0.03558321757307583\n",
      "Iterations:  460, Accuracy:  0.90105, Loss:  0.035299974355962764\n",
      "Iterations:  470, Accuracy:  0.9015333333333333, Loss:  0.0350265874335581\n",
      "Iterations:  480, Accuracy:  0.9020666666666667, Loss:  0.03476243066655384\n",
      "Iterations:  490, Accuracy:  0.90275, Loss:  0.03450693276552301\n",
      "Iterations:  500, Accuracy:  0.90325, Loss:  0.034259571458646054\n",
      "Iterations:  510, Accuracy:  0.9036833333333333, Loss:  0.03401986835551279\n",
      "Iterations:  520, Accuracy:  0.9041833333333333, Loss:  0.033787384418457765\n",
      "Iterations:  530, Accuracy:  0.9047333333333333, Loss:  0.03356171596462652\n",
      "Iterations:  540, Accuracy:  0.9053166666666667, Loss:  0.0333424911319365\n",
      "Iterations:  550, Accuracy:  0.9058166666666667, Loss:  0.03312936675065316\n",
      "Iterations:  560, Accuracy:  0.90645, Loss:  0.03292202556973114\n",
      "Iterations:  570, Accuracy:  0.9070166666666667, Loss:  0.03272017379358269\n",
      "Iterations:  580, Accuracy:  0.9074833333333333, Loss:  0.03252353889068344\n",
      "Iterations:  590, Accuracy:  0.9079166666666667, Loss:  0.0323318676405078\n"
     ]
    }
   ],
   "source": [
    "w1, b1, w2, b2 = train(X_train, y_train, 600, 0.6)"
   ]
  },
  {
   "cell_type": "code",
   "execution_count": 25,
   "id": "97d80641",
   "metadata": {},
   "outputs": [],
   "source": [
    "def make_predictions(X, W1, b1, W2, b2):\n",
    "    _, _, _, A2 = forward_prop(W1, b1, W2, b2, X)\n",
    "    predictions = get_predictions(A2)\n",
    "    return predictions\n",
    "\n",
    "def test_prediction(index, W1, b1, W2, b2):\n",
    "    current_image = X_train[:, index, None]\n",
    "    prediction = make_predictions(X_train[:, index, None], W1, b1, W2, b2)\n",
    "    label = y_train[index]\n",
    "    print(\"Prediction: \", prediction)\n",
    "    print(\"Label: \", label)\n",
    "    \n",
    "    current_image = current_image.reshape((28, 28)) * 255\n",
    "    plt.gray()\n",
    "    plt.imshow(current_image, interpolation='nearest')\n",
    "    plt.show()"
   ]
  },
  {
   "cell_type": "code",
   "execution_count": 26,
   "id": "7b1dc166",
   "metadata": {},
   "outputs": [
    {
     "name": "stdout",
     "output_type": "stream",
     "text": [
      "Prediction:  [3]\n",
      "Label:  5\n"
     ]
    },
    {
     "data": {
      "image/png": "[encoded data removed]",
      "text/plain": [
       "<Figure size 640x480 with 1 Axes>"
      ]
     },
     "metadata": {},
     "output_type": "display_data"
    }
   ],
   "source": [
    "test_prediction(0, w1, b1, w2, b2)"
   ]
  },
  {
   "cell_type": "code",
   "execution_count": 27,
   "id": "eadb907f",
   "metadata": {},
   "outputs": [
    {
     "data": {
      "text/plain": [
       "0.9128"
      ]
     },
     "execution_count": 27,
     "metadata": {},
     "output_type": "execute_result"
    }
   ],
   "source": [
    "test_predictions = make_predictions(X_test, w1, b1, w2, b2)\n",
    "get_accuracy(test_predictions, y_test)"
   ]
  }
 ],
 "metadata": {
  "kernelspec": {
   "display_name": "Python 3",
   "language": "python",
   "name": "python3"
  },
  "language_info": {
   "codemirror_mode": {
    "name": "ipython",
    "version": 3
   },
   "file_extension": ".py",
   "mimetype": "text/x-python",
   "name": "python",
   "nbconvert_exporter": "python",
   "pygments_lexer": "ipython3",
   "version": "3.12.9"
  }
 },
 "nbformat": 4,
 "nbformat_minor": 5
}
